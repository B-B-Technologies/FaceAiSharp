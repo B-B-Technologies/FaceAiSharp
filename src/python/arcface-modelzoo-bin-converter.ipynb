{
 "cells": [
  {
   "cell_type": "code",
   "execution_count": 6,
   "metadata": {},
   "outputs": [],
   "source": [
    "import pickle"
   ]
  },
  {
   "attachments": {},
   "cell_type": "markdown",
   "metadata": {},
   "source": [
    "This is based on <https://github.com/onnx/models/blob/main/vision/body_analysis/arcface/dependencies/arcface_validation.ipynb>. It is able to read the `lfw.bin` file from <https://s3.amazonaws.com/onnx-model-zoo/arcface/dataset/faces_ms1m_112x112.zip> (source: <https://github.com/onnx/models/tree/main/vision/body_analysis/arcface#dataset>). It extracts the pickle to data the can be used in a non-python environment."
   ]
  },
  {
   "cell_type": "code",
   "execution_count": 7,
   "metadata": {},
   "outputs": [],
   "source": [
    "bins, issame_list = pickle.load(open(\"lfw.bin\", 'rb'), encoding='bytes')"
   ]
  },
  {
   "cell_type": "code",
   "execution_count": 8,
   "metadata": {},
   "outputs": [],
   "source": [
    "for i in range(len(bins)):\n",
    "    with open(f\"lfw_jpgs/{i:05d}.jpg\", \"wb\") as fl:\n",
    "        fl.write(bins[i])"
   ]
  },
  {
   "cell_type": "code",
   "execution_count": 9,
   "metadata": {},
   "outputs": [],
   "source": [
    "with open(f\"samelist.tsv\", \"w\") as fl:\n",
    "    for j in range(len(issame_list)):\n",
    "        fl.write(f\"{j * 2:05d}.jpg {j * 2 + 1:05d}.jpg {int(issame_list[j])}\\n\")"
   ]
  }
 ],
 "metadata": {
  "kernelspec": {
   "display_name": "nlp4web",
   "language": "python",
   "name": "nlp4web"
  },
  "language_info": {
   "codemirror_mode": {
    "name": "ipython",
    "version": 3
   },
   "file_extension": ".py",
   "mimetype": "text/x-python",
   "name": "python",
   "nbconvert_exporter": "python",
   "pygments_lexer": "ipython3",
   "version": "3.9.7"
  },
  "orig_nbformat": 4
 },
 "nbformat": 4,
 "nbformat_minor": 2
}
