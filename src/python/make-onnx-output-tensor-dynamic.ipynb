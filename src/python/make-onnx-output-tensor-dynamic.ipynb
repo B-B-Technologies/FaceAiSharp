{
 "cells": [
  {
   "cell_type": "code",
   "execution_count": 1,
   "metadata": {},
   "outputs": [],
   "source": [
    "import onnx"
   ]
  },
  {
   "cell_type": "code",
   "execution_count": null,
   "metadata": {},
   "outputs": [],
   "source": [
    "# Load the model\n",
    "model = onnx.load(\"C:/Users/georg/Downloads/buffalo_l (1)/buffalo_l/det_10g.onnx\")\n",
    "\n",
    "# Change the first axis of the output to '?'\n",
    "# The '?' is typically represented as 'None' in the dimension\n",
    "for output in model.graph.output:\n",
    "    output.type.tensor_type.shape.dim[0].dim_param = '?'  # Alter the first dimension\n",
    "\n",
    "# Save the model\n",
    "onnx.save(model, \"C:/Users/georg/Downloads/buffalo_l (1)/buffalo_l/det_10g_dynmod.onnx\")"
   ]
  }
 ],
 "metadata": {
  "kernelspec": {
   "display_name": "onnx",
   "language": "python",
   "name": "python3"
  },
  "language_info": {
   "codemirror_mode": {
    "name": "ipython",
    "version": 3
   },
   "file_extension": ".py",
   "mimetype": "text/x-python",
   "name": "python",
   "nbconvert_exporter": "python",
   "pygments_lexer": "ipython3",
   "version": "3.10.6"
  },
  "orig_nbformat": 4
 },
 "nbformat": 4,
 "nbformat_minor": 2
}
